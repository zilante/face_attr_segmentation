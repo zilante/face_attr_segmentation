{
  "nbformat": 4,
  "nbformat_minor": 0,
  "metadata": {
    "colab": {
      "name": "tinkoff_deepfake_lab_task.ipynb",
      "provenance": []
    },
    "kernelspec": {
      "name": "python3",
      "display_name": "Python 3"
    },
    "language_info": {
      "name": "python"
    },
    "accelerator": "GPU"
  },
  "cells": [
    {
      "cell_type": "markdown",
      "source": [
        "### Install required libraries, data and code"
      ],
      "metadata": {
        "id": "TYwFTs_F0U9B"
      }
    },
    {
      "cell_type": "code",
      "source": [
        "# Install required libs\n",
        "!pip install segmentation-models-pytorch"
      ],
      "metadata": {
        "colab": {
          "base_uri": "https://localhost:8080/"
        },
        "id": "IJCKdbjveyHn",
        "outputId": "b8f5c708-cbf4-4f68-df07-918a2f576965"
      },
      "execution_count": 5,
      "outputs": [
        {
          "output_type": "stream",
          "name": "stdout",
          "text": [
            "Collecting segmentation-models-pytorch\n",
            "  Downloading segmentation_models_pytorch-0.2.1-py3-none-any.whl (88 kB)\n",
            "\u001b[?25l\r\u001b[K     |███▊                            | 10 kB 23.7 MB/s eta 0:00:01\r\u001b[K     |███████▍                        | 20 kB 25.8 MB/s eta 0:00:01\r\u001b[K     |███████████                     | 30 kB 30.6 MB/s eta 0:00:01\r\u001b[K     |██████████████▉                 | 40 kB 33.8 MB/s eta 0:00:01\r\u001b[K     |██████████████████▌             | 51 kB 37.1 MB/s eta 0:00:01\r\u001b[K     |██████████████████████▏         | 61 kB 27.0 MB/s eta 0:00:01\r\u001b[K     |██████████████████████████      | 71 kB 23.0 MB/s eta 0:00:01\r\u001b[K     |█████████████████████████████▋  | 81 kB 22.4 MB/s eta 0:00:01\r\u001b[K     |████████████████████████████████| 88 kB 5.8 MB/s \n",
            "\u001b[?25hRequirement already satisfied: torchvision>=0.5.0 in /usr/local/lib/python3.7/dist-packages (from segmentation-models-pytorch) (0.11.1+cu111)\n",
            "Collecting efficientnet-pytorch==0.6.3\n",
            "  Downloading efficientnet_pytorch-0.6.3.tar.gz (16 kB)\n",
            "Collecting timm==0.4.12\n",
            "  Downloading timm-0.4.12-py3-none-any.whl (376 kB)\n",
            "\u001b[K     |████████████████████████████████| 376 kB 49.9 MB/s \n",
            "\u001b[?25hCollecting pretrainedmodels==0.7.4\n",
            "  Downloading pretrainedmodels-0.7.4.tar.gz (58 kB)\n",
            "\u001b[K     |████████████████████████████████| 58 kB 3.9 MB/s \n",
            "\u001b[?25hRequirement already satisfied: torch in /usr/local/lib/python3.7/dist-packages (from efficientnet-pytorch==0.6.3->segmentation-models-pytorch) (1.10.0+cu111)\n",
            "Collecting munch\n",
            "  Downloading munch-2.5.0-py2.py3-none-any.whl (10 kB)\n",
            "Requirement already satisfied: tqdm in /usr/local/lib/python3.7/dist-packages (from pretrainedmodels==0.7.4->segmentation-models-pytorch) (4.62.3)\n",
            "Requirement already satisfied: typing-extensions in /usr/local/lib/python3.7/dist-packages (from torch->efficientnet-pytorch==0.6.3->segmentation-models-pytorch) (3.10.0.2)\n",
            "Requirement already satisfied: pillow!=8.3.0,>=5.3.0 in /usr/local/lib/python3.7/dist-packages (from torchvision>=0.5.0->segmentation-models-pytorch) (7.1.2)\n",
            "Requirement already satisfied: numpy in /usr/local/lib/python3.7/dist-packages (from torchvision>=0.5.0->segmentation-models-pytorch) (1.19.5)\n",
            "Requirement already satisfied: six in /usr/local/lib/python3.7/dist-packages (from munch->pretrainedmodels==0.7.4->segmentation-models-pytorch) (1.15.0)\n",
            "Building wheels for collected packages: efficientnet-pytorch, pretrainedmodels\n",
            "  Building wheel for efficientnet-pytorch (setup.py) ... \u001b[?25l\u001b[?25hdone\n",
            "  Created wheel for efficientnet-pytorch: filename=efficientnet_pytorch-0.6.3-py3-none-any.whl size=12421 sha256=cdc969a59da64ed67a95bfea1fc83052947a3eeb7e339721941f6d97ff205150\n",
            "  Stored in directory: /root/.cache/pip/wheels/90/6b/0c/f0ad36d00310e65390b0d4c9218ae6250ac579c92540c9097a\n",
            "  Building wheel for pretrainedmodels (setup.py) ... \u001b[?25l\u001b[?25hdone\n",
            "  Created wheel for pretrainedmodels: filename=pretrainedmodels-0.7.4-py3-none-any.whl size=60965 sha256=9f7667c2f741e2fd1bfa1d7311bb991988338477438201747bf8c003dd91e17d\n",
            "  Stored in directory: /root/.cache/pip/wheels/ed/27/e8/9543d42de2740d3544db96aefef63bda3f2c1761b3334f4873\n",
            "Successfully built efficientnet-pytorch pretrainedmodels\n",
            "Installing collected packages: munch, timm, pretrainedmodels, efficientnet-pytorch, segmentation-models-pytorch\n",
            "Successfully installed efficientnet-pytorch-0.6.3 munch-2.5.0 pretrainedmodels-0.7.4 segmentation-models-pytorch-0.2.1 timm-0.4.12\n"
          ]
        }
      ]
    },
    {
      "cell_type": "code",
      "execution_count": 2,
      "metadata": {
        "id": "G-2CoSghBIyp",
        "colab": {
          "base_uri": "https://localhost:8080/"
        },
        "outputId": "d0e5a3e5-3c48-43e9-fbb1-44896b950e3e"
      },
      "outputs": [
        {
          "output_type": "stream",
          "name": "stdout",
          "text": [
            "Downloading...\n",
            "From: https://drive.google.com/uc?id=1badu11NqxGf6qM3PTTooQDJvQbejgbTv\n",
            "To: /content/CelebAMask-HQ.zip\n",
            "100% 3.15G/3.15G [00:48<00:00, 64.6MB/s]\n"
          ]
        }
      ],
      "source": [
        "# download dataset\n",
        "!gdown --id 1badu11NqxGf6qM3PTTooQDJvQbejgbTv\n",
        "!unzip ./CelebAMask-HQ.zip > /dev/null"
      ]
    },
    {
      "cell_type": "code",
      "source": [
        "# download train/test split information\n",
        "!wget -O split_info.csv https://edu.tinkoff.ru/files/10e5aa2b-26ae-4110-b7a6-2beed2c7da6a"
      ],
      "metadata": {
        "id": "pSjY36njkBCz",
        "colab": {
          "base_uri": "https://localhost:8080/"
        },
        "outputId": "2d6b2571-65a5-418e-98db-2f10b9332d21"
      },
      "execution_count": 3,
      "outputs": [
        {
          "output_type": "stream",
          "name": "stdout",
          "text": [
            "--2022-01-08 17:30:46--  https://edu.tinkoff.ru/files/10e5aa2b-26ae-4110-b7a6-2beed2c7da6a\n",
            "Resolving edu.tinkoff.ru (edu.tinkoff.ru)... 178.248.239.60\n",
            "Connecting to edu.tinkoff.ru (edu.tinkoff.ru)|178.248.239.60|:443... connected.\n",
            "HTTP request sent, awaiting response... 302 Found\n",
            "Location: /media/edu-files-ext-101/train_test_split-10e5aa2b-26ae-4110-b7a6-2beed2c7da6a.csv [following]\n",
            "--2022-01-08 17:30:47--  https://edu.tinkoff.ru/media/edu-files-ext-101/train_test_split-10e5aa2b-26ae-4110-b7a6-2beed2c7da6a.csv\n",
            "Reusing existing connection to edu.tinkoff.ru:443.\n",
            "HTTP request sent, awaiting response... 200 OK\n",
            "Length: 74443 (73K) [binary/octet-stream]\n",
            "Saving to: ‘split_info.csv’\n",
            "\n",
            "split_info.csv      100%[===================>]  72.70K  --.-KB/s    in 0.1s    \n",
            "\n",
            "2022-01-08 17:30:47 (660 KB/s) - ‘split_info.csv’ saved [74443/74443]\n",
            "\n"
          ]
        }
      ]
    },
    {
      "cell_type": "code",
      "source": [
        "# download required files from repo\n",
        "import os\n",
        "\n",
        "if not os.path.exists('./train.py'):\n",
        "    print(\"train file not found locally. Downloading from github.\")\n",
        "    !wget https://raw.githubusercontent.com/zilante/face_attr_segmentation/main/train.py -nc\n",
        "\n",
        "if not os.path.exists('./dataloader.py'):\n",
        "    print(\"dataloader file not found locally. Downloading from github.\")\n",
        "    !wget https://raw.githubusercontent.com/zilante/face_attr_segmentation/main/dataloader.py -nc\n",
        "\n",
        "if not os.path.exists('./test.py'):\n",
        "    print(\"test file not found locally. Downloading from github.\")\n",
        "    !wget https://raw.githubusercontent.com/zilante/face_attr_segmentation/main/test.py -nc\n",
        "\n",
        "\n",
        "from pathlib import Path\n",
        "Path('./constants').mkdir(exist_ok=True)\n",
        "\n",
        "if not os.path.exists('./constants/data.py'):\n",
        "    print(\"constants/data file not found locally. Downloading from github.\")\n",
        "    %cd ./constants\n",
        "    !wget https://raw.githubusercontent.com/zilante/face_attr_segmentation/main/constants/data.py -nc\n",
        "    %cd ..\n",
        "\n",
        "if not os.path.exists('./constants/model.py'):\n",
        "    print(\"constants/model file not found locally. Downloading from github.\")\n",
        "    %cd ./constants\n",
        "    !wget https://raw.githubusercontent.com/zilante/face_attr_segmentation/main/constants/model.py -nc\n",
        "    %cd .."
      ],
      "metadata": {
        "colab": {
          "base_uri": "https://localhost:8080/"
        },
        "id": "5uHCzA3-VHuQ",
        "outputId": "68e3fd90-a6ed-47a9-bb1a-346f5f2203c6"
      },
      "execution_count": 4,
      "outputs": [
        {
          "output_type": "stream",
          "name": "stdout",
          "text": [
            "train file not found locally. Downloading from github.\n",
            "--2022-01-08 17:30:51--  https://raw.githubusercontent.com/zilante/face_attr_segmentation/main/train.py\n",
            "Resolving raw.githubusercontent.com (raw.githubusercontent.com)... 185.199.110.133, 185.199.108.133, 185.199.109.133, ...\n",
            "Connecting to raw.githubusercontent.com (raw.githubusercontent.com)|185.199.110.133|:443... connected.\n",
            "HTTP request sent, awaiting response... 200 OK\n",
            "Length: 4205 (4.1K) [text/plain]\n",
            "Saving to: ‘train.py’\n",
            "\n",
            "train.py            100%[===================>]   4.11K  --.-KB/s    in 0s      \n",
            "\n",
            "2022-01-08 17:30:51 (28.8 MB/s) - ‘train.py’ saved [4205/4205]\n",
            "\n",
            "dataloader file not found locally. Downloading from github.\n",
            "--2022-01-08 17:30:51--  https://raw.githubusercontent.com/zilante/face_attr_segmentation/main/dataloader.py\n",
            "Resolving raw.githubusercontent.com (raw.githubusercontent.com)... 185.199.108.133, 185.199.111.133, 185.199.110.133, ...\n",
            "Connecting to raw.githubusercontent.com (raw.githubusercontent.com)|185.199.108.133|:443... connected.\n",
            "HTTP request sent, awaiting response... 200 OK\n",
            "Length: 3236 (3.2K) [text/plain]\n",
            "Saving to: ‘dataloader.py’\n",
            "\n",
            "dataloader.py       100%[===================>]   3.16K  --.-KB/s    in 0s      \n",
            "\n",
            "2022-01-08 17:30:52 (26.1 MB/s) - ‘dataloader.py’ saved [3236/3236]\n",
            "\n",
            "test file not found locally. Downloading from github.\n",
            "--2022-01-08 17:30:52--  https://raw.githubusercontent.com/zilante/face_attr_segmentation/main/test.py\n",
            "Resolving raw.githubusercontent.com (raw.githubusercontent.com)... 185.199.110.133, 185.199.111.133, 185.199.108.133, ...\n",
            "Connecting to raw.githubusercontent.com (raw.githubusercontent.com)|185.199.110.133|:443... connected.\n",
            "HTTP request sent, awaiting response... 200 OK\n",
            "Length: 4555 (4.4K) [text/plain]\n",
            "Saving to: ‘test.py’\n",
            "\n",
            "test.py             100%[===================>]   4.45K  --.-KB/s    in 0s      \n",
            "\n",
            "2022-01-08 17:30:52 (34.0 MB/s) - ‘test.py’ saved [4555/4555]\n",
            "\n",
            "constants/data file not found locally. Downloading from github.\n",
            "/content/constants\n",
            "--2022-01-08 17:30:52--  https://raw.githubusercontent.com/zilante/face_attr_segmentation/main/constants/data.py\n",
            "Resolving raw.githubusercontent.com (raw.githubusercontent.com)... 185.199.108.133, 185.199.109.133, 185.199.110.133, ...\n",
            "Connecting to raw.githubusercontent.com (raw.githubusercontent.com)|185.199.108.133|:443... connected.\n",
            "HTTP request sent, awaiting response... 200 OK\n",
            "Length: 350 [text/plain]\n",
            "Saving to: ‘data.py’\n",
            "\n",
            "data.py             100%[===================>]     350  --.-KB/s    in 0s      \n",
            "\n",
            "2022-01-08 17:30:52 (12.4 MB/s) - ‘data.py’ saved [350/350]\n",
            "\n",
            "/content\n",
            "constants/model file not found locally. Downloading from github.\n",
            "/content/constants\n",
            "--2022-01-08 17:30:52--  https://raw.githubusercontent.com/zilante/face_attr_segmentation/main/constants/model.py\n",
            "Resolving raw.githubusercontent.com (raw.githubusercontent.com)... 185.199.110.133, 185.199.108.133, 185.199.111.133, ...\n",
            "Connecting to raw.githubusercontent.com (raw.githubusercontent.com)|185.199.110.133|:443... connected.\n",
            "HTTP request sent, awaiting response... 200 OK\n",
            "Length: 53 [text/plain]\n",
            "Saving to: ‘model.py’\n",
            "\n",
            "model.py            100%[===================>]      53  --.-KB/s    in 0s      \n",
            "\n",
            "2022-01-08 17:30:52 (2.40 MB/s) - ‘model.py’ saved [53/53]\n",
            "\n",
            "/content\n"
          ]
        }
      ]
    },
    {
      "cell_type": "markdown",
      "source": [
        "### Train and test the model"
      ],
      "metadata": {
        "id": "0KWA-5tT0l4k"
      }
    },
    {
      "cell_type": "code",
      "source": [
        "# train the model\n",
        "!chmod +x train.py\n",
        "!python3 train.py -d cuda -v . ./split_info.csv"
      ],
      "metadata": {
        "colab": {
          "base_uri": "https://localhost:8080/"
        },
        "id": "UeyZw7QE7Iof",
        "outputId": "f089f350-490e-4397-f98f-2b1e30bdf355"
      },
      "execution_count": 7,
      "outputs": [
        {
          "output_type": "stream",
          "name": "stdout",
          "text": [
            "Downloading: \"https://download.pytorch.org/models/mobilenet_v2-b0353104.pth\" to /root/.cache/torch/hub/checkpoints/mobilenet_v2-b0353104.pth\n",
            "100% 13.6M/13.6M [00:00<00:00, 34.8MB/s]\n",
            "\n",
            "Epoch: 0\n",
            "train: 100% 225/225 [10:05<00:00,  2.69s/it, dice_loss - 0.5462, skin dice score - 0.8245, nose dice score - 0.7132, eye_g dice score - 0.00824, l_eye dice score - 0.3711, r_eye dice score - 0.0031, l_brow dice score - 0.4529, r_brow dice score - 0.5257, l_ear dice score - 0.5655, r_ear dice score - 0.5377, mouth dice score - 0.0334, u_lip dice score - 0.5214, l_lip dice score - 0.3253, hair dice score - 0.7212, hat dice score - 0.01439, ear_r dice score - 0.003388, neck_l dice score - 0.0008363, neck dice score - 0.6093, cloth dice score - 0.5785, fscore - 0.1657]\n",
            "valid: 100% 25/25 [00:44<00:00,  1.80s/it, dice_loss - 0.3511, skin dice score - 0.8723, nose dice score - 0.8325, eye_g dice score - 0.04193, l_eye dice score - 0.7691, r_eye dice score - 0.002966, l_brow dice score - 0.7503, r_brow dice score - 0.7498, l_ear dice score - 0.7191, r_ear dice score - 0.7285, mouth dice score - 0.5864, u_lip dice score - 0.7692, l_lip dice score - 0.7633, hair dice score - 0.8254, hat dice score - 0.008926, ear_r dice score - 0.003897, neck_l dice score - 0.001027, neck dice score - 0.751, cloth dice score - 0.6968, fscore - 0.2155]\n",
            "Model saved!\n",
            "\n",
            "Epoch: 1\n",
            "train: 100% 225/225 [09:55<00:00,  2.65s/it, dice_loss - 0.3445, skin dice score - 0.8808, nose dice score - 0.8391, eye_g dice score - 0.2059, l_eye dice score - 0.7754, r_eye dice score - 0.003044, l_brow dice score - 0.7517, r_brow dice score - 0.7422, l_ear dice score - 0.75, r_ear dice score - 0.7364, mouth dice score - 0.7599, u_lip dice score - 0.7732, l_lip dice score - 0.7718, hair dice score - 0.8179, hat dice score - 0.05071, ear_r dice score - 0.004328, neck_l dice score - 0.001186, neck dice score - 0.7737, cloth dice score - 0.7057, fscore - 0.2663]\n",
            "valid: 100% 25/25 [00:44<00:00,  1.76s/it, dice_loss - 0.2852, skin dice score - 0.9073, nose dice score - 0.8543, eye_g dice score - 0.2054, l_eye dice score - 0.7998, r_eye dice score - 0.002989, l_brow dice score - 0.7773, r_brow dice score - 0.7787, l_ear dice score - 0.7564, r_ear dice score - 0.7515, mouth dice score - 0.8195, u_lip dice score - 0.8109, l_lip dice score - 0.8214, hair dice score - 0.8599, hat dice score - 0.1529, ear_r dice score - 0.0103, neck_l dice score - 0.001303, neck dice score - 0.8131, cloth dice score - 0.733, fscore - 0.3616]\n",
            "Model saved!\n",
            "\n",
            "Epoch: 2\n",
            "train: 100% 225/225 [09:52<00:00,  2.63s/it, dice_loss - 0.2906, skin dice score - 0.89, nose dice score - 0.85, eye_g dice score - 0.4799, l_eye dice score - 0.797, r_eye dice score - 0.2233, l_brow dice score - 0.7678, r_brow dice score - 0.7593, l_ear dice score - 0.7589, r_ear dice score - 0.7607, mouth dice score - 0.8124, u_lip dice score - 0.792, l_lip dice score - 0.8005, hair dice score - 0.8377, hat dice score - 0.27, ear_r dice score - 0.07325, neck_l dice score - 0.002953, neck dice score - 0.8, cloth dice score - 0.7448, fscore - 0.5736]\n",
            "valid: 100% 25/25 [00:43<00:00,  1.74s/it, dice_loss - 0.2033, skin dice score - 0.9156, nose dice score - 0.8802, eye_g dice score - 0.779, l_eye dice score - 0.8232, r_eye dice score - 0.8013, l_brow dice score - 0.7884, r_brow dice score - 0.7857, l_ear dice score - 0.7789, r_ear dice score - 0.7702, mouth dice score - 0.839, u_lip dice score - 0.8236, l_lip dice score - 0.8357, hair dice score - 0.8809, hat dice score - 0.357, ear_r dice score - 0.4118, neck_l dice score - 0.004056, neck dice score - 0.8267, cloth dice score - 0.7369, fscore - 0.853]\n",
            "Model saved!\n",
            "\n",
            "Epoch: 3\n",
            "train: 100% 225/225 [09:52<00:00,  2.63s/it, dice_loss - 0.2184, skin dice score - 0.8996, nose dice score - 0.8599, eye_g dice score - 0.6642, l_eye dice score - 0.8108, r_eye dice score - 0.7965, l_brow dice score - 0.7793, r_brow dice score - 0.7721, l_ear dice score - 0.7851, r_ear dice score - 0.7696, mouth dice score - 0.8253, u_lip dice score - 0.8026, l_lip dice score - 0.816, hair dice score - 0.8505, hat dice score - 0.3339, ear_r dice score - 0.4573, neck_l dice score - 0.03994, neck dice score - 0.8137, cloth dice score - 0.7706, fscore - 0.8424]\n",
            "valid: 100% 25/25 [00:43<00:00,  1.74s/it, dice_loss - 0.1936, skin dice score - 0.915, nose dice score - 0.8781, eye_g dice score - 0.5137, l_eye dice score - 0.8337, r_eye dice score - 0.8271, l_brow dice score - 0.7895, r_brow dice score - 0.7947, l_ear dice score - 0.7751, r_ear dice score - 0.7648, mouth dice score - 0.8372, u_lip dice score - 0.8267, l_lip dice score - 0.8377, hair dice score - 0.8802, hat dice score - 0.3206, ear_r dice score - 0.4483, neck_l dice score - 0.147, neck dice score - 0.8213, cloth dice score - 0.7283, fscore - 0.8757]\n",
            "Model saved!\n",
            "\n",
            "Epoch: 4\n",
            "train: 100% 225/225 [09:30<00:00,  2.54s/it, dice_loss - 0.2017, skin dice score - 0.9019, nose dice score - 0.8651, eye_g dice score - 0.6762, l_eye dice score - 0.8179, r_eye dice score - 0.812, l_brow dice score - 0.7847, r_brow dice score - 0.7785, l_ear dice score - 0.7945, r_ear dice score - 0.7915, mouth dice score - 0.8387, u_lip dice score - 0.8096, l_lip dice score - 0.8243, hair dice score - 0.8562, hat dice score - 0.3496, ear_r dice score - 0.5117, neck_l dice score - 0.1944, neck dice score - 0.8139, cloth dice score - 0.7743, fscore - 0.8636]\n",
            "valid: 100% 25/25 [00:41<00:00,  1.66s/it, dice_loss - 0.1901, skin dice score - 0.9213, nose dice score - 0.8827, eye_g dice score - 0.7224, l_eye dice score - 0.8407, r_eye dice score - 0.8428, l_brow dice score - 0.7935, r_brow dice score - 0.7985, l_ear dice score - 0.7725, r_ear dice score - 0.7828, mouth dice score - 0.8446, u_lip dice score - 0.8362, l_lip dice score - 0.8432, hair dice score - 0.8853, hat dice score - 0.172, ear_r dice score - 0.3611, neck_l dice score - 0.2775, neck dice score - 0.8131, cloth dice score - 0.7523, fscore - 0.8786]\n",
            "Model saved!\n",
            "\n",
            "Epoch: 5\n",
            "train: 100% 225/225 [09:30<00:00,  2.53s/it, dice_loss - 0.1843, skin dice score - 0.9078, nose dice score - 0.8732, eye_g dice score - 0.6904, l_eye dice score - 0.8269, r_eye dice score - 0.8228, l_brow dice score - 0.7911, r_brow dice score - 0.7854, l_ear dice score - 0.8055, r_ear dice score - 0.8046, mouth dice score - 0.8551, u_lip dice score - 0.8183, l_lip dice score - 0.8335, hair dice score - 0.8667, hat dice score - 0.425, ear_r dice score - 0.5731, neck_l dice score - 0.2734, neck dice score - 0.8254, cloth dice score - 0.8049, fscore - 0.8736]\n",
            "valid: 100% 25/25 [00:43<00:00,  1.73s/it, dice_loss - 0.1832, skin dice score - 0.9177, nose dice score - 0.8766, eye_g dice score - 0.7893, l_eye dice score - 0.8321, r_eye dice score - 0.8374, l_brow dice score - 0.788, r_brow dice score - 0.7917, l_ear dice score - 0.7727, r_ear dice score - 0.7755, mouth dice score - 0.861, u_lip dice score - 0.82, l_lip dice score - 0.8371, hair dice score - 0.8878, hat dice score - 0.3267, ear_r dice score - 0.5078, neck_l dice score - 0.07519, neck dice score - 0.826, cloth dice score - 0.7785, fscore - 0.8827]\n",
            "Model saved!\n",
            "\n",
            "Epoch: 6\n",
            "train: 100% 225/225 [09:31<00:00,  2.54s/it, dice_loss - 0.1765, skin dice score - 0.9105, nose dice score - 0.875, eye_g dice score - 0.7324, l_eye dice score - 0.8313, r_eye dice score - 0.8295, l_brow dice score - 0.7949, r_brow dice score - 0.7873, l_ear dice score - 0.8133, r_ear dice score - 0.7988, mouth dice score - 0.854, u_lip dice score - 0.8204, l_lip dice score - 0.8365, hair dice score - 0.8694, hat dice score - 0.4576, ear_r dice score - 0.5811, neck_l dice score - 0.2966, neck dice score - 0.8281, cloth dice score - 0.8036, fscore - 0.8772]\n",
            "valid: 100% 25/25 [00:41<00:00,  1.68s/it, dice_loss - 0.1835, skin dice score - 0.9102, nose dice score - 0.8747, eye_g dice score - 0.7845, l_eye dice score - 0.8305, r_eye dice score - 0.8361, l_brow dice score - 0.7852, r_brow dice score - 0.7957, l_ear dice score - 0.7759, r_ear dice score - 0.7794, mouth dice score - 0.8395, u_lip dice score - 0.831, l_lip dice score - 0.8368, hair dice score - 0.8731, hat dice score - 0.431, ear_r dice score - 0.438, neck_l dice score - 0.4327, neck dice score - 0.8194, cloth dice score - 0.7373, fscore - 0.8736]\n",
            "\n",
            "Epoch: 7\n",
            "train: 100% 225/225 [09:35<00:00,  2.56s/it, dice_loss - 0.1666, skin dice score - 0.9179, nose dice score - 0.8819, eye_g dice score - 0.7627, l_eye dice score - 0.8405, r_eye dice score - 0.8401, l_brow dice score - 0.8037, r_brow dice score - 0.8006, l_ear dice score - 0.823, r_ear dice score - 0.8159, mouth dice score - 0.8625, u_lip dice score - 0.8312, l_lip dice score - 0.8468, hair dice score - 0.8813, hat dice score - 0.5429, ear_r dice score - 0.611, neck_l dice score - 0.4306, neck dice score - 0.8426, cloth dice score - 0.8328, fscore - 0.8876]\n",
            "valid: 100% 25/25 [00:41<00:00,  1.64s/it, dice_loss - 0.183, skin dice score - 0.9163, nose dice score - 0.8765, eye_g dice score - 0.7684, l_eye dice score - 0.8355, r_eye dice score - 0.838, l_brow dice score - 0.7948, r_brow dice score - 0.8058, l_ear dice score - 0.7668, r_ear dice score - 0.7703, mouth dice score - 0.8395, u_lip dice score - 0.8297, l_lip dice score - 0.8431, hair dice score - 0.8831, hat dice score - 0.3336, ear_r dice score - 0.4469, neck_l dice score - 0.4355, neck dice score - 0.8262, cloth dice score - 0.7478, fscore - 0.8808]\n"
          ]
        }
      ]
    },
    {
      "cell_type": "code",
      "source": [
        "# test the model\n",
        "!chmod +x test.py\n",
        "!python3 test.py -d cuda -v ./visualization ./best_model.pth . ./split_info.csv"
      ],
      "metadata": {
        "id": "PtnrPEbu5Dez",
        "colab": {
          "base_uri": "https://localhost:8080/"
        },
        "outputId": "79f7e093-9f20-43bf-ca3b-fd8dca41da8a"
      },
      "execution_count": 8,
      "outputs": [
        {
          "output_type": "stream",
          "name": "stdout",
          "text": [
            "valid: 100% 125/125 [02:21<00:00,  1.14s/it, log_dice_loss - 0.2545, skin_dice_score - 0.924, nose_dice_score - 0.8833, eye_g_dice_score - 0.7565, l_eye_dice_score - 0.8385, r_eye_dice_score - 0.8347, l_brow_dice_score - 0.7943, r_brow_dice_score - 0.7829, l_ear_dice_score - 0.7773, r_ear_dice_score - 0.7754, mouth_dice_score - 0.8479, u_lip_dice_score - 0.8266, l_lip_dice_score - 0.846, hair_dice_score - 0.8921, hat_dice_score - 0.5036, ear_r_dice_score - 0.5402, neck_l_dice_score - 0.1513, neck_dice_score - 0.8275, cloth_dice_score - 0.7437]\n"
          ]
        }
      ]
    },
    {
      "cell_type": "markdown",
      "source": [
        "### Visualization"
      ],
      "metadata": {
        "id": "BZemWc070LQT"
      }
    },
    {
      "cell_type": "code",
      "source": [
        "import matplotlib.pyplot as plt\n",
        "import torch\n",
        "\n",
        "# helper function for data visualization\n",
        "def visualize(**images):\n",
        "    \"\"\"PLot images.\"\"\"\n",
        "    n = len(images)\n",
        "    plt.figure(figsize=(15, 10))\n",
        "    for i, (name, image) in enumerate(images.items()):\n",
        "        plt.subplot((n - 1) // 4 + 1, 4, i + 1)\n",
        "        plt.xticks([])\n",
        "        plt.yticks([])\n",
        "        plt.title(' '.join(name.split('_')).title())\n",
        "        plt.imshow(torch.movedim(image, 0, 2))\n",
        "    plt.show()"
      ],
      "metadata": {
        "id": "GNYUWdIZr7dh"
      },
      "execution_count": 24,
      "outputs": []
    },
    {
      "cell_type": "code",
      "source": [
        "import os\n",
        "from torchvision.io import read_image\n",
        "import constants.data as constants\n",
        "\n",
        "visualization_dir = './visualization'\n",
        "img = read_image(os.path.join(visualization_dir, 'img.png'))\n",
        "\n",
        "masks = {\n",
        "    class_name: read_image(\n",
        "          os.path.join(visualization_dir, class_name + '.png')\n",
        "    ) for class_name in constants.CLASSES\n",
        "}\n",
        "\n",
        "imgs = masks\n",
        "imgs['img'] = img\n",
        "\n",
        "visualize(**imgs)"
      ],
      "metadata": {
        "colab": {
          "base_uri": "https://localhost:8080/",
          "height": 594
        },
        "id": "Fsuq2FLhsil_",
        "outputId": "849779c6-b2f0-40eb-f5c4-a869f8fc3f47"
      },
      "execution_count": 25,
      "outputs": [
        {
          "output_type": "display_data",
          "data": {
            "image/png": "[encoded data removed]",
            "text/plain": [
              "<Figure size 1080x720 with 19 Axes>"
            ]
          },
          "metadata": {}
        }
      ]
    }
  ]
}